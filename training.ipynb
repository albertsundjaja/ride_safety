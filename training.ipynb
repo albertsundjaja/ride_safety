{
 "cells": [
  {
   "cell_type": "code",
   "execution_count": null,
   "metadata": {
    "collapsed": true
   },
   "outputs": [],
   "source": [
    "import pandas as pd\n",
    "import numpy as np\n",
    "from sklearn.model_selection import train_test_split\n",
    "from sklearn.ensemble import RandomForestClassifier\n",
    "from sklearn.model_selection import GridSearchCV\n",
    "import matplotlib.pyplot as plt\n",
    "from sklearn.metrics import precision_score,recall_score,accuracy_score,f1_score,confusion_matrix, roc_auc_score"
   ]
  },
  {
   "cell_type": "code",
   "execution_count": null,
   "metadata": {
    "collapsed": true
   },
   "outputs": [],
   "source": [
    "# these files are the result from wavelet_features.py\n",
    "df_f1 = pd.read_csv('features_wavelet_1.csv')\n",
    "df_f2 = pd.read_csv('features_wavelet_2.csv')\n",
    "df_f3 = pd.read_csv('features_wavelet_3.csv')\n",
    "df_f4 = pd.read_csv('features_wavelet_4.csv')\n",
    "\n",
    "df_l1 = pd.read_csv('labels_wavelet_1.csv', header=None)\n",
    "df_l2 = pd.read_csv('labels_wavelet_2.csv', header=None)\n",
    "df_l3 = pd.read_csv('labels_wavelet_3.csv', header=None)\n",
    "df_l4 = pd.read_csv('labels_wavelet_4.csv', header=None)\n",
    "\n",
    "df_f = pd.concat([df_f1,df_f2,df_f3,df_f4], ignore_index=True)\n",
    "df_l = pd.concat([df_l1,df_l2,df_l3,df_l4], ignore_index=True)\n",
    "df_f.drop(['Unnamed: 0'], axis=1, inplace=True)\n",
    "df_l.drop([0], axis=1, inplace=True)"
   ]
  },
  {
   "cell_type": "code",
   "execution_count": null,
   "metadata": {
    "collapsed": true
   },
   "outputs": [],
   "source": [
    "# replace infinity/nan with the mean\n",
    "df_f.replace([np.inf, -np.inf], np.nan, inplace=True)\n",
    "df_f.fillna(df_f.mean(), inplace=True)"
   ]
  },
  {
   "cell_type": "code",
   "execution_count": null,
   "metadata": {
    "collapsed": true
   },
   "outputs": [],
   "source": [
    "# prepare data for training\n",
    "X = df_f\n",
    "y = df_l.values.ravel()\n",
    "\n",
    "X_train, X_test, y_train, y_test = train_test_split(X, y, test_size = 0.3, random_state=11, \n",
    "                                                    stratify=y)"
   ]
  },
  {
   "cell_type": "code",
   "execution_count": null,
   "metadata": {
    "collapsed": false
   },
   "outputs": [],
   "source": [
    "# train our random forest classifier and show validation result\n",
    "from sklearn.ensemble import RandomForestClassifier\n",
    "rf = RandomForestClassifier(n_estimators=100, max_depth=25, min_samples_split=5, min_samples_leaf=5, random_state=33)\n",
    "rf.fit(X_train, y_train)\n",
    "y_pred = rf.predict(X_test)\n",
    "print(confusion_matrix(y_test,y_pred))\n",
    "print(precision_score(y_test,y_pred))\n",
    "print(recall_score(y_test,y_pred))\n",
    "print(f1_score(y_test,y_pred))\n",
    "print(accuracy_score(y_test,y_pred))\n",
    "y_pred_proba = rf.predict_proba(X_test)\n",
    "print(roc_auc_score(y_test, y_pred_proba[:,1]))"
   ]
  },
  {
   "cell_type": "code",
   "execution_count": null,
   "metadata": {
    "collapsed": true
   },
   "outputs": [],
   "source": [
    "# use grid search cv to get the optimum hyperparameters\n",
    "# this was skipped during submission as it took too long\n",
    "params = {'max_depth':np.arange(5,30,1), \n",
    "          'min_samples_split':np.arange(2,20,1), \n",
    "          'min_samples_leaf':np.arange(2,20,1)\n",
    "            }\n",
    "clf = RandomForestClassifier(random_state=33, n_estimators=100)\n",
    "clf_gs = GridSearchCV(clf, params, scoring='roc_auc', cv=5)\n",
    "clf_gs.fit(X_train, y_train)"
   ]
  }
 ],
 "metadata": {
  "kernelspec": {
   "display_name": "Python 3",
   "language": "python",
   "name": "python3"
  },
  "language_info": {
   "codemirror_mode": {
    "name": "ipython",
    "version": 3
   },
   "file_extension": ".py",
   "mimetype": "text/x-python",
   "name": "python",
   "nbconvert_exporter": "python",
   "pygments_lexer": "ipython3",
   "version": "3.6.8"
  }
 },
 "nbformat": 4,
 "nbformat_minor": 2
}
