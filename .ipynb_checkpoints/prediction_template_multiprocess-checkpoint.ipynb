{
 "cells": [
  {
   "cell_type": "code",
   "execution_count": null,
   "metadata": {
    "collapsed": true
   },
   "outputs": [],
   "source": [
    "import pandas as pd\n",
    "import numpy as np\n",
    "import pickle\n",
    "import preprocess_tools as tools\n",
    "import itertools\n",
    "from sklearn.metrics import precision_score,recall_score,accuracy_score,confusion_matrix, roc_auc_score"
   ]
  },
  {
   "cell_type": "code",
   "execution_count": null,
   "metadata": {
    "collapsed": true
   },
   "outputs": [],
   "source": [
    "# load pretrained model\n",
    "rf = pickle.load(open('final_model.sav', 'rb'))"
   ]
  },
  {
   "cell_type": "code",
   "execution_count": null,
   "metadata": {
    "collapsed": false
   },
   "outputs": [],
   "source": [
    "# load extracted features, this is the file outputted by multiprocess_extraction.py\n",
    "\n",
    "df_f1 = pd.read_csv('multi_features_1.csv')\n",
    "df_f2 = pd.read_csv('multi_features_2.csv')\n",
    "df_f3 = pd.read_csv('multi_features_3.csv')\n",
    "df_f4 = pd.read_csv('multi_features_4.csv')\n",
    "df_features = pd.concat([df_f1,df_f2,df_f3,df_f4], ignore_index=True)\n",
    "df_features.drop(['Unnamed: 0'], axis=1, inplace=True)\n",
    "\n",
    "df_l1 = pd.read_csv('multi_labels_1.csv', header=None)\n",
    "df_l2 = pd.read_csv('multi_labels_2.csv', header=None)\n",
    "df_l3 = pd.read_csv('multi_labels_3.csv', header=None)\n",
    "df_l4 = pd.read_csv('multi_labels_4.csv', header=None)\n",
    "df_labels = pd.concat([df_l1,df_l2,df_l3,df_l4], ignore_index=True)\n",
    "df_labels.drop([0], axis=1, inplace=True)\n",
    "\n",
    "# sometimes the features resulted in infinity or nan, replace them with 0\n",
    "df_features.replace([np.inf, -np.inf], np.nan, inplace=True)\n",
    "df_features.fillna(0, inplace=True)"
   ]
  },
  {
   "cell_type": "code",
   "execution_count": null,
   "metadata": {
    "collapsed": false,
    "scrolled": true
   },
   "outputs": [],
   "source": [
    "# prepare the data for prediction and result\n",
    "X_test = df_features\n",
    "y_test = df_labels.values.ravel()"
   ]
  },
  {
   "cell_type": "code",
   "execution_count": null,
   "metadata": {
    "collapsed": false
   },
   "outputs": [],
   "source": [
    "# show confusion matrix and calculate score\n",
    "y_pred = rf.predict(X_test)\n",
    "print(\"Confusion Matrix \\n\", confusion_matrix(y_test,y_pred))\n",
    "print(\"Precision\", precision_score(y_test,y_pred))\n",
    "print(\"Recall\", recall_score(y_test,y_pred))\n",
    "print(\"Accuracy\", accuracy_score(y_test,y_pred))\n",
    "y_pred_proba = rf.predict_proba(X_test)\n",
    "print(\"ROC AUC\", roc_auc_score(y_test, y_pred_proba[:,1]))"
   ]
  },
  {
   "cell_type": "code",
   "execution_count": null,
   "metadata": {
    "collapsed": true
   },
   "outputs": [],
   "source": []
  }
 ],
 "metadata": {
  "kernelspec": {
   "display_name": "Python 3",
   "language": "python",
   "name": "python3"
  },
  "language_info": {
   "codemirror_mode": {
    "name": "ipython",
    "version": 3
   },
   "file_extension": ".py",
   "mimetype": "text/x-python",
   "name": "python",
   "nbconvert_exporter": "python",
   "pygments_lexer": "ipython3",
   "version": "3.6.8"
  }
 },
 "nbformat": 4,
 "nbformat_minor": 2
}
